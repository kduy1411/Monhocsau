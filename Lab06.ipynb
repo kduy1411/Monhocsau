{
  "nbformat": 4,
  "nbformat_minor": 0,
  "metadata": {
    "colab": {
      "name": "Lab06.ipynb",
      "provenance": [],
      "authorship_tag": "ABX9TyN7Xqms7BvoXs2UElzXUky3",
      "include_colab_link": true
    },
    "kernelspec": {
      "name": "python3",
      "display_name": "Python 3"
    },
    "language_info": {
      "name": "python"
    }
  },
  "cells": [
    {
      "cell_type": "markdown",
      "metadata": {
        "id": "view-in-github",
        "colab_type": "text"
      },
      "source": [
        "<a href=\"https://colab.research.google.com/github/kduy1411/Monhocsau/blob/main/Lab06.ipynb\" target=\"_parent\"><img src=\"https://colab.research.google.com/assets/colab-badge.svg\" alt=\"Open In Colab\"/></a>"
      ]
    },
    {
      "cell_type": "code",
      "metadata": {
        "id": "aC9UPw4ZuU41"
      },
      "source": [
        "import pandas as pd\n",
        "import numpy as np\n",
        "import matplotlib.pyplot as plt\n",
        "from scipy.stats.stats import pearsonr\n",
        "from scipy import stats\n",
        "import statsmodels.formula.api as smf"
      ],
      "execution_count": null,
      "outputs": []
    },
    {
      "cell_type": "code",
      "metadata": {
        "id": "eOohBR87uiuI",
        "colab": {
          "base_uri": "https://localhost:8080/"
        },
        "outputId": "766c29fe-7239-45fb-e2f0-841987e017df"
      },
      "source": [
        "df = pd.read_csv('/content/data/crabs.txt',sep = '\\s+')\n",
        "print(df)"
      ],
      "execution_count": 3,
      "outputs": [
        {
          "output_type": "stream",
          "name": "stdout",
          "text": [
            "     presz  postsz   inc  year  lf\n",
            "0    113.6   127.7  14.1   NaN   0\n",
            "1    118.1   133.2  15.1   NaN   0\n",
            "2    119.9   135.3  15.4   NaN   0\n",
            "3    126.2   143.3  17.1   NaN   0\n",
            "4    126.7   139.3  12.6   NaN   0\n",
            "..     ...     ...   ...   ...  ..\n",
            "467  135.9   150.3  14.4  92.0   1\n",
            "468  135.6   151.2  15.6  92.0   1\n",
            "469  129.6   143.5  13.9  92.0   1\n",
            "470  134.1   148.3  14.2  92.0   1\n",
            "471  114.4   129.2  14.8  92.0   1\n",
            "\n",
            "[472 rows x 5 columns]\n"
          ]
        }
      ]
    },
    {
      "cell_type": "code",
      "metadata": {
        "colab": {
          "base_uri": "https://localhost:8080/",
          "height": 295
        },
        "id": "EfIw4NblvBMD",
        "outputId": "63595de0-3134-4999-bed3-ddf99f4679bf"
      },
      "source": [
        "plt.plot(df['postsz'],df['presz'],'o')\n",
        "plt.xlabel('Postmlit size')\n",
        "plt.ylabel('Premolt size')\n",
        "plt.title('Postmolt vs Premost')\n",
        "plt.show()"
      ],
      "execution_count": 4,
      "outputs": [
        {
          "output_type": "display_data",
          "data": {
            "image/png": "[encoded data removed]",
            "text/plain": [
              "<Figure size 432x288 with 1 Axes>"
            ]
          },
          "metadata": {
            "needs_background": "light"
          }
        }
      ]
    },
    {
      "cell_type": "code",
      "metadata": {
        "colab": {
          "base_uri": "https://localhost:8080/"
        },
        "id": "JaxDLITgvCZG",
        "outputId": "6df6d957-fbbb-45b4-95b0-bb1deca8e223"
      },
      "source": [
        "print('He so tuong quan la:')\n",
        "print(pearsonr(df['postsz'],df['presz']))"
      ],
      "execution_count": 5,
      "outputs": [
        {
          "output_type": "stream",
          "name": "stdout",
          "text": [
            "He so tuong quan la:\n",
            "(0.9903699282533854, 0.0)\n"
          ]
        }
      ]
    },
    {
      "cell_type": "code",
      "metadata": {
        "colab": {
          "base_uri": "https://localhost:8080/"
        },
        "id": "b0W2cF83vFcW",
        "outputId": "89afcb4e-aadc-4a2b-f9a8-6d8cbc015fd9"
      },
      "source": [
        "#tìm phương trình dự báo\n",
        "result = smf.ols('presz~postsz',df).fit()\n",
        "print(result.summary())"
      ],
      "execution_count": 7,
      "outputs": [
        {
          "output_type": "stream",
          "name": "stdout",
          "text": [
            "                            OLS Regression Results                            \n",
            "==============================================================================\n",
            "Dep. Variable:                  presz   R-squared:                       0.981\n",
            "Model:                            OLS   Adj. R-squared:                  0.981\n",
            "Method:                 Least Squares   F-statistic:                 2.405e+04\n",
            "Date:                Mon, 01 Nov 2021   Prob (F-statistic):               0.00\n",
            "Time:                        04:23:15   Log-Likelihood:                -1040.6\n",
            "No. Observations:                 472   AIC:                             2085.\n",
            "Df Residuals:                     470   BIC:                             2094.\n",
            "Df Model:                           1                                         \n",
            "Covariance Type:            nonrobust                                         \n",
            "==============================================================================\n",
            "                 coef    std err          t      P>|t|      [0.025      0.975]\n",
            "------------------------------------------------------------------------------\n",
            "Intercept    -25.2137      1.001    -25.191      0.000     -27.180     -23.247\n",
            "postsz         1.0732      0.007    155.083      0.000       1.060       1.087\n",
            "==============================================================================\n",
            "Omnibus:                      107.875   Durbin-Watson:                   1.684\n",
            "Prob(Omnibus):                  0.000   Jarque-Bera (JB):              625.191\n",
            "Skew:                           0.845   Prob(JB):                    1.74e-136\n",
            "Kurtosis:                       8.379   Cond. No.                     1.43e+03\n",
            "==============================================================================\n",
            "\n",
            "Warnings:\n",
            "[1] Standard Errors assume that the covariance matrix of the errors is correctly specified.\n",
            "[2] The condition number is large, 1.43e+03. This might indicate that there are\n",
            "strong multicollinearity or other numerical problems.\n"
          ]
        }
      ]
    },
    {
      "cell_type": "code",
      "metadata": {
        "colab": {
          "base_uri": "https://localhost:8080/",
          "height": 280
        },
        "id": "6kbUjTnHvPaQ",
        "outputId": "bc20b578-c8c8-4f11-b217-cc0faaaaf1f8"
      },
      "source": [
        "sales_pred = result.predict()\n",
        "plt.plot(df['postsz'],df['presz'],'o')\n",
        "plt.plot(df['postsz'],sales_pred,'r',linewidth=2)\n",
        "plt.xlabel('Postmlit size')\n",
        "plt.ylabel('Premolt size')\n",
        "plt.ylabel('Postmost')\n",
        "plt.show()"
      ],
      "execution_count": 8,
      "outputs": [
        {
          "output_type": "display_data",
          "data": {
            "image/png": "[encoded data removed]",
            "text/plain": [
              "<Figure size 432x288 with 1 Axes>"
            ]
          },
          "metadata": {
            "needs_background": "light"
          }
        }
      ]
    }
  ]
}