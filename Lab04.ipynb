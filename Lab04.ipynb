{
  "nbformat": 4,
  "nbformat_minor": 0,
  "metadata": {
    "colab": {
      "name": "Lab04.ipynb",
      "provenance": [],
      "authorship_tag": "ABX9TyPd+Y9vO3zSHcWPxucUSJQs",
      "include_colab_link": true
    },
    "kernelspec": {
      "name": "python3",
      "display_name": "Python 3"
    },
    "language_info": {
      "name": "python"
    }
  },
  "cells": [
    {
      "cell_type": "markdown",
      "metadata": {
        "id": "view-in-github",
        "colab_type": "text"
      },
      "source": [
        "<a href=\"https://colab.research.google.com/github/kduy1411/Monhocsau/blob/main/Lab04.ipynb\" target=\"_parent\"><img src=\"https://colab.research.google.com/assets/colab-badge.svg\" alt=\"Open In Colab\"/></a>"
      ]
    },
    {
      "cell_type": "code",
      "metadata": {
        "id": "GQWFqHAqg3NU"
      },
      "source": [
        "import pandas as pd\n",
        "import seaborn as sns\n",
        "from matplotlib import pyplot as plt"
      ],
      "execution_count": 1,
      "outputs": []
    },
    {
      "cell_type": "code",
      "metadata": {
        "id": "AA373FgIg_Ne"
      },
      "source": [
        "def load_data(filename):\n",
        "    return pd.read_csv(filename)\n",
        "filename='/content/data/titanic_disaster.csv'\n",
        "df=load_data(filename)"
      ],
      "execution_count": 2,
      "outputs": []
    },
    {
      "cell_type": "code",
      "metadata": {
        "colab": {
          "base_uri": "https://localhost:8080/"
        },
        "id": "02wh6dByhNfj",
        "outputId": "348ad4c3-ba62-40fa-bdb0-2a4d773e5f55"
      },
      "source": [
        "#câu 1\n",
        "print(df.head(10))"
      ],
      "execution_count": 3,
      "outputs": [
        {
          "output_type": "stream",
          "name": "stdout",
          "text": [
            "   PassengerId  Survived  Pclass  ...     Fare Cabin  Embarked\n",
            "0            1         0       3  ...   7.2500   NaN         S\n",
            "1            2         1       1  ...  71.2833   C85         C\n",
            "2            3         1       3  ...   7.9250   NaN         S\n",
            "3            4         1       1  ...  53.1000  C123         S\n",
            "4            5         0       3  ...   8.0500   NaN         S\n",
            "5            6         0       3  ...   8.4583   NaN         Q\n",
            "6            7         0       1  ...  51.8625   E46         S\n",
            "7            8         0       3  ...  21.0750   NaN         S\n",
            "8            9         1       3  ...  11.1333   NaN         S\n",
            "9           10         1       2  ...  30.0708   NaN         C\n",
            "\n",
            "[10 rows x 12 columns]\n"
          ]
        }
      ]
    },
    {
      "cell_type": "code",
      "metadata": {
        "colab": {
          "base_uri": "https://localhost:8080/",
          "height": 993
        },
        "id": "P82FwrvahPe4",
        "outputId": "9b083471-f91f-4b14-bf30-5e675f28d17d"
      },
      "source": [
        "#câu2\n",
        "sns.heatmap(df.isna(),cmap='viridis')\n",
        "print(plt.show())\n",
        "df_thieu_age=df[df['Age'].isna()]\n",
        "print(df_thieu_age.count())\n",
        "df_thieu_carbin=df[df['Cabin'].isna()]\n",
        "print(df_thieu_carbin.count())\n",
        "df_thieu_Embarked=df[df['Embarked'].isna()]\n",
        "print(df_thieu_Embarked.count())"
      ],
      "execution_count": 4,
      "outputs": [
        {
          "output_type": "display_data",
          "data": {
            "image/png": "[encoded data removed]",
            "text/plain": [
              "<Figure size 432x288 with 2 Axes>"
            ]
          },
          "metadata": {
            "needs_background": "light"
          }
        },
        {
          "output_type": "stream",
          "name": "stdout",
          "text": [
            "None\n",
            "PassengerId    177\n",
            "Survived       177\n",
            "Pclass         177\n",
            "Name           177\n",
            "Sex            177\n",
            "Age              0\n",
            "SibSp          177\n",
            "Parch          177\n",
            "Ticket         177\n",
            "Fare           177\n",
            "Cabin           19\n",
            "Embarked       177\n",
            "dtype: int64\n",
            "PassengerId    687\n",
            "Survived       687\n",
            "Pclass         687\n",
            "Name           687\n",
            "Sex            687\n",
            "Age            529\n",
            "SibSp          687\n",
            "Parch          687\n",
            "Ticket         687\n",
            "Fare           687\n",
            "Cabin            0\n",
            "Embarked       687\n",
            "dtype: int64\n",
            "PassengerId    2\n",
            "Survived       2\n",
            "Pclass         2\n",
            "Name           2\n",
            "Sex            2\n",
            "Age            2\n",
            "SibSp          2\n",
            "Parch          2\n",
            "Ticket         2\n",
            "Fare           2\n",
            "Cabin          2\n",
            "Embarked       0\n",
            "dtype: int64\n"
          ]
        }
      ]
    },
    {
      "cell_type": "code",
      "metadata": {
        "id": "dQ37NPIVhQbX"
      },
      "source": [
        "#câu 3\n",
        "df[['firstname','secondname']]=df['Name'].str.split(',',expand=True)\n",
        "df=df.drop('Name',axis=1)"
      ],
      "execution_count": 5,
      "outputs": []
    },
    {
      "cell_type": "code",
      "metadata": {
        "id": "62xyZOfThSsj"
      },
      "source": [
        "#câu 4\n",
        "df['Sex'].replace('male','M',inplace=True)\n",
        "df['Sex'].replace('female','F',inplace=True)"
      ],
      "execution_count": 6,
      "outputs": []
    },
    {
      "cell_type": "code",
      "metadata": {
        "colab": {
          "base_uri": "https://localhost:8080/",
          "height": 296
        },
        "id": "gRK4R6fdhUgw",
        "outputId": "4c369a10-9a87-4a24-ca46-c00f55014a16"
      },
      "source": [
        "#câu5\n",
        "sns.boxplot(y='Age',x='Pclass',data=df)\n",
        "print(plt.show())"
      ],
      "execution_count": 7,
      "outputs": [
        {
          "output_type": "display_data",
          "data": {
            "image/png": "[encoded data removed]",
            "text/plain": [
              "<Figure size 432x288 with 1 Axes>"
            ]
          },
          "metadata": {
            "needs_background": "light"
          }
        },
        {
          "output_type": "stream",
          "name": "stdout",
          "text": [
            "None\n"
          ]
        }
      ]
    },
    {
      "cell_type": "code",
      "metadata": {
        "colab": {
          "base_uri": "https://localhost:8080/",
          "height": 612
        },
        "id": "Ebn6Wr4IhWL-",
        "outputId": "44c51401-ea9a-46fc-c73c-a9f2a271f05f"
      },
      "source": [
        "# thay dữ liệu age bị thiếu\n",
        "df['Age'][df['Pclass']==1]=df['Age'][df['Pclass']==1].fillna(df['Age'][df['Pclass']==1].mean())\n",
        "df['Age'][df['Pclass']==2]=df['Age'][df['Pclass']==2].fillna(df['Age'][df['Pclass']==2].mean())\n",
        "df['Age'][df['Pclass']==3]=df['Age'][df['Pclass']==3].fillna(df['Age'][df['Pclass']==3].mean())\n",
        "\n",
        "sns.heatmap(df.isna(),yticklabels=False,cbar=True,cmap='viridis')\n",
        "print(plt.show())"
      ],
      "execution_count": 8,
      "outputs": [
        {
          "output_type": "stream",
          "name": "stderr",
          "text": [
            "/usr/local/lib/python3.7/dist-packages/ipykernel_launcher.py:2: SettingWithCopyWarning: \n",
            "A value is trying to be set on a copy of a slice from a DataFrame\n",
            "\n",
            "See the caveats in the documentation: https://pandas.pydata.org/pandas-docs/stable/user_guide/indexing.html#returning-a-view-versus-a-copy\n",
            "  \n",
            "/usr/local/lib/python3.7/dist-packages/ipykernel_launcher.py:3: SettingWithCopyWarning: \n",
            "A value is trying to be set on a copy of a slice from a DataFrame\n",
            "\n",
            "See the caveats in the documentation: https://pandas.pydata.org/pandas-docs/stable/user_guide/indexing.html#returning-a-view-versus-a-copy\n",
            "  This is separate from the ipykernel package so we can avoid doing imports until\n",
            "/usr/local/lib/python3.7/dist-packages/ipykernel_launcher.py:4: SettingWithCopyWarning: \n",
            "A value is trying to be set on a copy of a slice from a DataFrame\n",
            "\n",
            "See the caveats in the documentation: https://pandas.pydata.org/pandas-docs/stable/user_guide/indexing.html#returning-a-view-versus-a-copy\n",
            "  after removing the cwd from sys.path.\n"
          ]
        },
        {
          "output_type": "display_data",
          "data": {
            "image/png": "[encoded data removed]",
            "text/plain": [
              "<Figure size 432x288 with 2 Axes>"
            ]
          },
          "metadata": {
            "needs_background": "light"
          }
        },
        {
          "output_type": "stream",
          "name": "stdout",
          "text": [
            "None\n"
          ]
        }
      ]
    },
    {
      "cell_type": "code",
      "metadata": {
        "colab": {
          "base_uri": "https://localhost:8080/"
        },
        "id": "6NqyGQyWhaM-",
        "outputId": "d6939360-c4ab-4f3a-9c3b-8d8ccb2a2af7"
      },
      "source": [
        "#câu 6\n",
        "df.loc[df['Age']<=12,'Agegroup']='Kid'\n",
        "df.loc[(df['Age']>12)&(df['Age']>=18),'Agegroup']='Adult'\n",
        "df.loc[df['Age']>60,'Agegroup']='Older'\n",
        "print(plt.show())"
      ],
      "execution_count": 15,
      "outputs": [
        {
          "output_type": "stream",
          "name": "stdout",
          "text": [
            "None\n"
          ]
        }
      ]
    },
    {
      "cell_type": "code",
      "metadata": {
        "colab": {
          "base_uri": "https://localhost:8080/"
        },
        "id": "JcF8fO49hdoR",
        "outputId": "81a0bee4-7755-4d4c-d8f9-f9a30ea4f91a"
      },
      "source": [
        "#câu 8\n",
        "df['familySize']= df['SibSp'] +df['Parch'] +1\n",
        "print(plt.show())"
      ],
      "execution_count": 14,
      "outputs": [
        {
          "output_type": "stream",
          "name": "stdout",
          "text": [
            "None\n"
          ]
        }
      ]
    },
    {
      "cell_type": "code",
      "metadata": {
        "colab": {
          "base_uri": "https://localhost:8080/"
        },
        "id": "gz9fb6Sdhfnf",
        "outputId": "12ac9ecb-b75f-4010-896f-8fce95cb09c1"
      },
      "source": [
        "#câu 9\n",
        "df.loc[df['familySize']==0,'Alone']=1\n",
        "df.loc[df['familySize']!=0,'Alone']=0\n",
        "print(plt.show())"
      ],
      "execution_count": 13,
      "outputs": [
        {
          "output_type": "stream",
          "name": "stdout",
          "text": [
            "None\n"
          ]
        }
      ]
    },
    {
      "cell_type": "code",
      "metadata": {
        "colab": {
          "base_uri": "https://localhost:8080/",
          "height": 315
        },
        "id": "p2Dnr0ezhhIq",
        "outputId": "d0175c66-fa29-45d9-b7b5-16fad1ed948f"
      },
      "source": [
        "#câu 12\n",
        "df.groupby(['Survived','Sex'])['Sex'].agg(['count']).plot.bar()\n",
        "print(plt.show())"
      ],
      "execution_count": 12,
      "outputs": [
        {
          "output_type": "display_data",
          "data": {
            "image/png": "[encoded data removed]",
            "text/plain": [
              "<Figure size 432x288 with 1 Axes>"
            ]
          },
          "metadata": {
            "needs_background": "light"
          }
        },
        {
          "output_type": "stream",
          "name": "stdout",
          "text": [
            "None\n"
          ]
        }
      ]
    }
  ]
}