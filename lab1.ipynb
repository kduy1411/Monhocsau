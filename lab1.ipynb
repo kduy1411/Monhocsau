{
  "nbformat": 4,
  "nbformat_minor": 0,
  "metadata": {
    "colab": {
      "name": "lab1.ipynb",
      "provenance": [],
      "authorship_tag": "ABX9TyOWXwYX1m7tcbob+lug5O9E",
      "include_colab_link": true
    },
    "kernelspec": {
      "name": "python3",
      "display_name": "Python 3"
    },
    "language_info": {
      "name": "python"
    }
  },
  "cells": [
    {
      "cell_type": "markdown",
      "metadata": {
        "id": "view-in-github",
        "colab_type": "text"
      },
      "source": [
        "<a href=\"https://colab.research.google.com/github/kduy1411/Monhocsau/blob/main/lab1.ipynb\" target=\"_parent\"><img src=\"https://colab.research.google.com/assets/colab-badge.svg\" alt=\"Open In Colab\"/></a>"
      ]
    },
    {
      "cell_type": "code",
      "metadata": {
        "id": "PIXYMh8-OGVV",
        "outputId": "cfcaed13-7160-4c6e-84bf-229137cc6ac5",
        "colab": {
          "base_uri": "https://localhost:8080/",
          "height": 130
        }
      },
      "source": [
        "import pandas as pd\n",
        "from pandas.core.dtypes.missing import isnull\n",
        "dh=pd.read_csv('/content/tenfile/processed_dulieuxettuyendaihoc(1).csv')\n",
        "print(dh.tail(10))\n",
        "#câu4\n",
        "print(dh['DT'].isna().sum())\n",
        "dh['DT'].fillna(0,inplace=True)\n",
        "#câu5\n",
        "dh['T1'].fillna(dh['T1'].mean(),inplace=False)\n",
        "#câu 6\n",
        "#cách 1\n",
        "\n",
        "#def fill(col):\n",
        "       #return dh[col].fillna(dh[col].mean(),inplace=False)\n",
        "#cách 2\n",
        "dh['L1'].fillna(dh['L1'].mean(),inplace=False)\n",
        "dh['H1'].fillna(dh['H1'].mean(),inplace=False)\n",
        "dh['S1'].fillna(dh['S1'].mean(),inplace=False)\n",
        "dh['V1'].fillna(dh['V1'].mean(),inplace=False)\n",
        "dh['X1'].fillna(dh['X1'].mean(),inplace=False)\n",
        "dh['D1'].fillna(dh['D1'].mean(),inplace=False)\n",
        "dh['N1'].fillna(dh['N1'].mean(),inplace=False)\n",
        "dh['T2'].fillna(dh['T2'].mean(),inplace=False)\n",
        "dh['L2'].fillna(dh['L2'].mean(),inplace=False)\n",
        "dh['H2'].fillna(dh['H2'].mean(),inplace=False)\n",
        "dh['S2'].fillna(dh['S2'].mean(),inplace=False)\n",
        "dh['V2'].fillna(dh['V2'].mean(),inplace=False)\n",
        "dh['X2'].fillna(dh['X2'].mean(),inplace=False)\n",
        "dh['D2'].fillna(dh['D2'].mean(),inplace=False)\n",
        "dh['N2'].fillna(dh['N2'].mean(),inplace=False)\n",
        "dh['T6'].fillna(dh['T6'].mean(),inplace=False)\n",
        "dh['L6'].fillna(dh['L6'].mean(),inplace=False)\n",
        "dh['H6'].fillna(dh['H6'].mean(),inplace=False)\n",
        "dh['S6'].fillna(dh['S6'].mean(),inplace=False)\n",
        "dh['V6'].fillna(dh['V6'].mean(),inplace=False)\n",
        "dh['X6'].fillna(dh['X6'].mean(),inplace=False)\n",
        "dh['D6'].fillna(dh['D6'].mean(),inplace=False)\n",
        "dh['N6'].fillna(dh['N6'].mean(),inplace=False)\n",
        "\n",
        "#câu 7\n",
        "print(dh.dtypes)\n",
        "dh.dtypes==float\n",
        "\n",
        "#cách 1\n",
        "dh['TBM1']=(dh['T1']*2 + dh['L1'] + dh['H1'] + dh['S1'] + dh['V1']*2 + dh['X1'] +dh['D1'] + dh['N1'])/10\n",
        "dh['TBM2']=(dh['T2']*2 + dh['L2'] + dh['H2'] + dh['S2'] + dh['V2']*2 + dh['X2'] +dh['D2'] + dh['N2'])/10\n",
        "dh['TBM3']=(dh['T6']*2 + dh['L6'] + dh['H6'] + dh['S6'] + dh['V6']*2 + dh['X6'] +dh['D6'] + dh['N6'])/10\n",
        "#dh.isnull().values.any() # check if any value NaN\n",
        "#cách 2\n",
        "#for i in [\"1\",\"2\",\"3\"]:\n",
        "       #dh[\"TBM\"+i]=(dh[\"T\"+i]*2+dh[\"L\"+i]+dh[\"H\"+i]+dh[\"S\"+i]+dh[\"V\"+i]*2+dh[\"X\"+i]+dh[\"D\"+i]+dh[\"N\"+i])/10\n",
        "\n",
        "#câu 8\n",
        "# df.loc[condition, \"newcolumn\"] = values_newcolumn\n",
        "for i in [\"1\",\"2\",\"3\"]:\n",
        "       dh.loc[dh['TBM'+i]<= 5 ,'XL'+i]='Y'\n",
        "       dh.loc[(5<dh['TBM'+i])& (dh['TBM'+i]<= 6.5) ,'XL'+i]='TB'\n",
        "       dh.loc[(6.5<dh['TBM'+i]) & (dh['TBM'+i]<= 8) ,'XL'+i]='K'\n",
        "       dh.loc[(8<dh['TBM'+i]) & (dh['TBM'+i]<= 9) ,'XL'+i]='G'\n",
        "       dh.loc[9<dh['TBM'+i],'XL'+i]='XS'\n",
        "\n",
        "#Câu 9\n",
        "for i in [\"1\",\"2\",\"3\"]:\n",
        "       dh['US_TBM'+i]=dh['TBM'+i]/10*4\n",
        "print(dh.head())\n",
        "#Câu 10\n",
        "for i in dh['KT'].unique():\n",
        "       dh.loc[(i=='A'or i=='A1')&(((dh['DH1']*2+dh['DH2']+dh['DH3'])/4)>=5),'KQXT']=1\n",
        "       dh.loc[(i=='A'or i=='A1')&(((dh['DH1']*2+dh['DH2']+dh['DH3'])/4)<5),'KQXT']=0\n",
        "       dh.loc[(i=='B')&(((dh['DH1']*2+dh['DH2']+dh['DH3'])/4)>=5),'KQXT']=1\n",
        "       dh.loc[(i=='B')&(((dh['DH1']*2+dh['DH2']+dh['DH3'])/4)<5),'KQXT']=0\n",
        "       dh.loc[(i!='A'or i!='A1'or i!='B')&(((dh['DH1']*2+dh['DH2']+dh['DH3'])/4)>=5),'KQXT']=1\n",
        "       dh.loc[(i!='A'or i!='A1'or i!='B')&(((dh['DH1']*2+dh['DH2']+dh['DH3'])/4)<5),'KQXT']=0\n",
        "dh.to_csv('/content/tenfile/processed_dulieuxettuyendaihoc(1).csv'')\n"
      ],
      "execution_count": 1,
      "outputs": [
        {
          "output_type": "error",
          "ename": "SyntaxError",
          "evalue": "ignored",
          "traceback": [
            "\u001b[0;36m  File \u001b[0;32m\"<ipython-input-1-e70f5640fce2>\"\u001b[0;36m, line \u001b[0;32m74\u001b[0m\n\u001b[0;31m    dh.to_csv('/content/tenfile/processed_dulieuxettuyendaihoc(1).csv'')\u001b[0m\n\u001b[0m                                                                        ^\u001b[0m\n\u001b[0;31mSyntaxError\u001b[0m\u001b[0;31m:\u001b[0m EOL while scanning string literal\n"
          ]
        }
      ]
    },
    {
      "cell_type": "code",
      "metadata": {
        "id": "PjtROS93QmQD",
        "outputId": "6aba47ac-78b3-4598-ec7f-fdacfc294038",
        "colab": {
          "base_uri": "https://localhost:8080/",
          "height": 130
        }
      },
      "source": [
        "import pandas as pd\n",
        "from pandas.core.dtypes.missing import isnull\n",
        "dh=pd.read_csv('\\content\\tenfile\\processed_dulieuxettuyendaihoc(1).csv'')\n",
        "print(dh.tail(10))\n",
        "#câu4\n",
        "print(dh['DT'].isna().sum())\n",
        "dh['DT'].fillna(0,inplace=True)\n",
        "#câu5\n",
        "dh['T1'].fillna(dh['T1'].mean(),inplace=False)"
      ],
      "execution_count": 6,
      "outputs": [
        {
          "output_type": "error",
          "ename": "SyntaxError",
          "evalue": "ignored",
          "traceback": [
            "\u001b[0;36m  File \u001b[0;32m\"<ipython-input-6-56513b21849e>\"\u001b[0;36m, line \u001b[0;32m3\u001b[0m\n\u001b[0;31m    dh=pd.read_csv('\\content\\tenfile\\processed_dulieuxettuyendaihoc(1).csv'')\u001b[0m\n\u001b[0m                                                                             ^\u001b[0m\n\u001b[0;31mSyntaxError\u001b[0m\u001b[0;31m:\u001b[0m EOL while scanning string literal\n"
          ]
        }
      ]
    }
  ]
}