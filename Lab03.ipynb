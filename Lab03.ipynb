{
  "nbformat": 4,
  "nbformat_minor": 0,
  "metadata": {
    "colab": {
      "name": "Lab03.ipynb",
      "provenance": [],
      "authorship_tag": "ABX9TyO/5ZAT8fh0vBtr315TGO/p",
      "include_colab_link": true
    },
    "kernelspec": {
      "name": "python3",
      "display_name": "Python 3"
    },
    "language_info": {
      "name": "python"
    }
  },
  "cells": [
    {
      "cell_type": "markdown",
      "metadata": {
        "id": "view-in-github",
        "colab_type": "text"
      },
      "source": [
        "<a href=\"https://colab.research.google.com/github/kduy1411/Monhocsau/blob/main/Lab03.ipynb\" target=\"_parent\"><img src=\"https://colab.research.google.com/assets/colab-badge.svg\" alt=\"Open In Colab\"/></a>"
      ]
    },
    {
      "cell_type": "code",
      "metadata": {
        "colab": {
          "base_uri": "https://localhost:8080/"
        },
        "id": "yqpd9gnbfpNs",
        "outputId": "2fe70ddc-31d1-46b3-a927-699246243924"
      },
      "source": [
        "import pandas as pd\n",
        "colum_names = [\"Id\", \"Name\",\"Age\",\"Weight\",\"m0006\",\"m0612\",\"m1218\",\"f0006\",\"f0612\",\"f1218\"]\n",
        "df = pd.read_csv(\"/content/data/patient_heart_rate.csv\", names = colum_names)\n",
        "print(df.head())"
      ],
      "execution_count": 1,
      "outputs": [
        {
          "output_type": "stream",
          "name": "stdout",
          "text": [
            "    Id            Name   Age      Weight m0006 m0612 m1218 f0006 f0612 f1218\n",
            "0  1.0    Mickéy Mousé  56.0       70kgs    72    69    71     -     -     -\n",
            "1  2.0     Donald Duck  34.0   154.89lbs     -     -     -    85    84    76\n",
            "2  3.0      Mini Mouse  16.0         NaN     -     -     -    65    69    72\n",
            "3  4.0  Scrooge McDuck   NaN       78kgs    78    79    72     -     -     -\n",
            "4  5.0    Pink Panther  54.0  198.658lbs     -     -     -    69   NaN    75\n"
          ]
        }
      ]
    },
    {
      "cell_type": "code",
      "metadata": {
        "colab": {
          "base_uri": "https://localhost:8080/"
        },
        "id": "a16GT5Hkga-D",
        "outputId": "362d9d1c-f663-4cac-94ff-ad7ea9f5031f"
      },
      "source": [
        "df[['Firstname','Lastname']] = df['Name'].str.split(expand = True)\n",
        "df = df.drop('Name',axis = 1)\n",
        "print(df)\n"
      ],
      "execution_count": 2,
      "outputs": [
        {
          "output_type": "stream",
          "name": "stdout",
          "text": [
            "      Id   Age      Weight m0006 m0612  ... f0006 f0612 f1218 Firstname Lastname\n",
            "0    1.0  56.0       70kgs    72    69  ...     -     -     -    Mickéy    Mousé\n",
            "1    2.0  34.0   154.89lbs     -     -  ...    85    84    76    Donald     Duck\n",
            "2    3.0  16.0         NaN     -     -  ...    65    69    72      Mini    Mouse\n",
            "3    4.0   NaN       78kgs    78    79  ...     -     -     -   Scrooge   McDuck\n",
            "4    5.0  54.0  198.658lbs     -     -  ...    69   NaN    75      Pink  Panther\n",
            "5    6.0  52.0      189lbs     -     -  ...    68    75    72      Huey   McDuck\n",
            "6    7.0  19.0       56kgs     -     -  ...    71    78    75     Dewey   McDuck\n",
            "7    8.0  32.0       78kgs    78    76  ...     -     -     -    Scööpy      Doo\n",
            "8    NaN   NaN         NaN   NaN   NaN  ...   NaN   NaN   NaN       NaN      NaN\n",
            "9    NaN   NaN         NaN   NaN   NaN  ...   NaN   NaN   NaN       NaN      NaN\n",
            "10   9.0  52.0      189lbs     -     -  ...    68    75    72      Huey   McDuck\n",
            "11  10.0  12.0       45kgs     -     -  ...    92    95    87     Louie   McDuck\n",
            "12  11.0   NaN       60kgs    78    75  ...     -     -     -     Henry      Nam\n",
            "13  12.0  34.0         NaN    65    67  ...     -     -     -    Michel     Long\n",
            "14  13.0   NaN         NaN     -     -  ...    68    72    70      Tana    Ricky\n",
            "15  14.0   NaN         NaN   NaN   NaN  ...   NaN   NaN   NaN  UniLever     None\n",
            "16  15.0  52.0      180lbs     -     -  ...    68    75    72       NaN      NaN\n",
            "\n",
            "[17 rows x 11 columns]\n"
          ]
        }
      ]
    },
    {
      "cell_type": "code",
      "metadata": {
        "colab": {
          "base_uri": "https://localhost:8080/"
        },
        "id": "wEr5MKT8gckH",
        "outputId": "082ce655-88ee-4555-f963-f291d35ad0e9"
      },
      "source": [
        "weight = df['Weight']\n",
        "\n",
        "for i in range (0,len(weight)):\n",
        "    x = str(weight[i])\n",
        "    if \"lbs\" in x[-3:]:\n",
        "        x = x[:-3:]\n",
        "        float_x = float(x)\n",
        "        y = int(float_x/2.2)\n",
        "        y = str(y)+\"kgs\"\n",
        "        weight[i] = y\n",
        "print(df)\n",
        "\n",
        "df.dropna(how = \"all\",inplace = True)\n",
        "print(df)"
      ],
      "execution_count": 3,
      "outputs": [
        {
          "output_type": "stream",
          "name": "stdout",
          "text": [
            "      Id   Age Weight m0006 m0612 m1218 f0006 f0612 f1218 Firstname Lastname\n",
            "0    1.0  56.0  70kgs    72    69    71     -     -     -    Mickéy    Mousé\n",
            "1    2.0  34.0  70kgs     -     -     -    85    84    76    Donald     Duck\n",
            "2    3.0  16.0    NaN     -     -     -    65    69    72      Mini    Mouse\n",
            "3    4.0   NaN  78kgs    78    79    72     -     -     -   Scrooge   McDuck\n",
            "4    5.0  54.0  90kgs     -     -     -    69   NaN    75      Pink  Panther\n",
            "5    6.0  52.0  85kgs     -     -     -    68    75    72      Huey   McDuck\n",
            "6    7.0  19.0  56kgs     -     -     -    71    78    75     Dewey   McDuck\n",
            "7    8.0  32.0  78kgs    78    76    75     -     -     -    Scööpy      Doo\n",
            "8    NaN   NaN    NaN   NaN   NaN   NaN   NaN   NaN   NaN       NaN      NaN\n",
            "9    NaN   NaN    NaN   NaN   NaN   NaN   NaN   NaN   NaN       NaN      NaN\n",
            "10   9.0  52.0  85kgs     -     -     -    68    75    72      Huey   McDuck\n",
            "11  10.0  12.0  45kgs     -     -     -    92    95    87     Louie   McDuck\n",
            "12  11.0   NaN  60kgs    78    75    72     -     -     -     Henry      Nam\n",
            "13  12.0  34.0    NaN    65    67    55     -     -     -    Michel     Long\n",
            "14  13.0   NaN    NaN     -     -     -    68    72    70      Tana    Ricky\n",
            "15  14.0   NaN    NaN   NaN   NaN   NaN   NaN   NaN   NaN  UniLever     None\n",
            "16  15.0  52.0  81kgs     -     -     -    68    75    72       NaN      NaN\n",
            "      Id   Age Weight m0006 m0612 m1218 f0006 f0612 f1218 Firstname Lastname\n",
            "0    1.0  56.0  70kgs    72    69    71     -     -     -    Mickéy    Mousé\n",
            "1    2.0  34.0  70kgs     -     -     -    85    84    76    Donald     Duck\n",
            "2    3.0  16.0    NaN     -     -     -    65    69    72      Mini    Mouse\n",
            "3    4.0   NaN  78kgs    78    79    72     -     -     -   Scrooge   McDuck\n",
            "4    5.0  54.0  90kgs     -     -     -    69   NaN    75      Pink  Panther\n",
            "5    6.0  52.0  85kgs     -     -     -    68    75    72      Huey   McDuck\n",
            "6    7.0  19.0  56kgs     -     -     -    71    78    75     Dewey   McDuck\n",
            "7    8.0  32.0  78kgs    78    76    75     -     -     -    Scööpy      Doo\n",
            "10   9.0  52.0  85kgs     -     -     -    68    75    72      Huey   McDuck\n",
            "11  10.0  12.0  45kgs     -     -     -    92    95    87     Louie   McDuck\n",
            "12  11.0   NaN  60kgs    78    75    72     -     -     -     Henry      Nam\n",
            "13  12.0  34.0    NaN    65    67    55     -     -     -    Michel     Long\n",
            "14  13.0   NaN    NaN     -     -     -    68    72    70      Tana    Ricky\n",
            "15  14.0   NaN    NaN   NaN   NaN   NaN   NaN   NaN   NaN  UniLever     None\n",
            "16  15.0  52.0  81kgs     -     -     -    68    75    72       NaN      NaN\n"
          ]
        },
        {
          "output_type": "stream",
          "name": "stderr",
          "text": [
            "/usr/local/lib/python3.7/dist-packages/ipykernel_launcher.py:10: SettingWithCopyWarning: \n",
            "A value is trying to be set on a copy of a slice from a DataFrame\n",
            "\n",
            "See the caveats in the documentation: https://pandas.pydata.org/pandas-docs/stable/user_guide/indexing.html#returning-a-view-versus-a-copy\n",
            "  # Remove the CWD from sys.path while we load stuff.\n"
          ]
        }
      ]
    },
    {
      "cell_type": "code",
      "metadata": {
        "colab": {
          "base_uri": "https://localhost:8080/"
        },
        "id": "slo1LdIagfPp",
        "outputId": "aefdf29b-d1bc-4b33-8022-953e72c5cf54"
      },
      "source": [
        "df = df.drop_duplicates(subset = ['Firstname','Lastname','Age','Weight'])\n",
        "print(df)"
      ],
      "execution_count": 4,
      "outputs": [
        {
          "output_type": "stream",
          "name": "stdout",
          "text": [
            "      Id   Age Weight m0006 m0612 m1218 f0006 f0612 f1218 Firstname Lastname\n",
            "0    1.0  56.0  70kgs    72    69    71     -     -     -    Mickéy    Mousé\n",
            "1    2.0  34.0  70kgs     -     -     -    85    84    76    Donald     Duck\n",
            "2    3.0  16.0    NaN     -     -     -    65    69    72      Mini    Mouse\n",
            "3    4.0   NaN  78kgs    78    79    72     -     -     -   Scrooge   McDuck\n",
            "4    5.0  54.0  90kgs     -     -     -    69   NaN    75      Pink  Panther\n",
            "5    6.0  52.0  85kgs     -     -     -    68    75    72      Huey   McDuck\n",
            "6    7.0  19.0  56kgs     -     -     -    71    78    75     Dewey   McDuck\n",
            "7    8.0  32.0  78kgs    78    76    75     -     -     -    Scööpy      Doo\n",
            "11  10.0  12.0  45kgs     -     -     -    92    95    87     Louie   McDuck\n",
            "12  11.0   NaN  60kgs    78    75    72     -     -     -     Henry      Nam\n",
            "13  12.0  34.0    NaN    65    67    55     -     -     -    Michel     Long\n",
            "14  13.0   NaN    NaN     -     -     -    68    72    70      Tana    Ricky\n",
            "15  14.0   NaN    NaN   NaN   NaN   NaN   NaN   NaN   NaN  UniLever     None\n",
            "16  15.0  52.0  81kgs     -     -     -    68    75    72       NaN      NaN\n"
          ]
        }
      ]
    },
    {
      "cell_type": "code",
      "metadata": {
        "colab": {
          "base_uri": "https://localhost:8080/"
        },
        "id": "fnQlPRE5giyw",
        "outputId": "957ba5c2-f43e-4a7e-ff49-e6d874020290"
      },
      "source": [
        "df.Firstname.replace({r'[^\\x00-\\x7F]+':''},regex =True , inplace = True)\n",
        "df.Lastname.replace({r'[^\\x00-\\x7F]+':''},regex =True , inplace = True)\n",
        "print(df)"
      ],
      "execution_count": 5,
      "outputs": [
        {
          "output_type": "stream",
          "name": "stdout",
          "text": [
            "      Id   Age Weight m0006 m0612 m1218 f0006 f0612 f1218 Firstname Lastname\n",
            "0    1.0  56.0  70kgs    72    69    71     -     -     -     Micky     Mous\n",
            "1    2.0  34.0  70kgs     -     -     -    85    84    76    Donald     Duck\n",
            "2    3.0  16.0    NaN     -     -     -    65    69    72      Mini    Mouse\n",
            "3    4.0   NaN  78kgs    78    79    72     -     -     -   Scrooge   McDuck\n",
            "4    5.0  54.0  90kgs     -     -     -    69   NaN    75      Pink  Panther\n",
            "5    6.0  52.0  85kgs     -     -     -    68    75    72      Huey   McDuck\n",
            "6    7.0  19.0  56kgs     -     -     -    71    78    75     Dewey   McDuck\n",
            "7    8.0  32.0  78kgs    78    76    75     -     -     -      Scpy      Doo\n",
            "11  10.0  12.0  45kgs     -     -     -    92    95    87     Louie   McDuck\n",
            "12  11.0   NaN  60kgs    78    75    72     -     -     -     Henry      Nam\n",
            "13  12.0  34.0    NaN    65    67    55     -     -     -    Michel     Long\n",
            "14  13.0   NaN    NaN     -     -     -    68    72    70      Tana    Ricky\n",
            "15  14.0   NaN    NaN   NaN   NaN   NaN   NaN   NaN   NaN  UniLever     None\n",
            "16  15.0  52.0  81kgs     -     -     -    68    75    72       NaN      NaN\n"
          ]
        }
      ]
    }
  ]
}